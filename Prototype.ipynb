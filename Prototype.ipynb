{
 "cells": [
  {
   "cell_type": "markdown",
   "id": "1a18129b",
   "metadata": {},
   "source": [
    "# Import and Settings"
   ]
  },
  {
   "cell_type": "code",
   "execution_count": 36,
   "id": "1e2fdcc6",
   "metadata": {},
   "outputs": [],
   "source": [
    "import numpy as np\n",
    "import scipy"
   ]
  },
  {
   "cell_type": "markdown",
   "id": "1f77bad3",
   "metadata": {},
   "source": [
    "## Directed Graph"
   ]
  },
  {
   "cell_type": "code",
   "execution_count": 55,
   "id": "5d9471b5",
   "metadata": {},
   "outputs": [
    {
     "data": {
      "text/plain": [
       "[[0, 1, 1, 1], [0, 0, 1, 1], [1, 0, 0, 0], [1, 0, 1, 0]]"
      ]
     },
     "execution_count": 55,
     "metadata": {},
     "output_type": "execute_result"
    }
   ],
   "source": [
    "directed_graph = [[0,1,1,1],[0,0,1,1],[1,0,0,0],[1,0,1,0]]\n",
    "directed_graph"
   ]
  },
  {
   "cell_type": "markdown",
   "id": "8d6b9fd5",
   "metadata": {},
   "source": [
    "# Processing"
   ]
  },
  {
   "cell_type": "markdown",
   "id": "b70d0b6d",
   "metadata": {},
   "source": [
    "## Converting Graph"
   ]
  },
  {
   "cell_type": "code",
   "execution_count": 56,
   "id": "b8d129fc",
   "metadata": {},
   "outputs": [],
   "source": [
    "# Assumes it is a square matrix\n",
    "def convert_graph_to_link_matrix(graph):\n",
    "    transformed_graph = []\n",
    "    for row in graph:\n",
    "        col = []\n",
    "        sum_row = sum(row)\n",
    "        for val in row:\n",
    "            col.append(val / sum_row)\n",
    "        transformed_graph.append(col)\n",
    "    transformed_graph = np.array(transformed_graph)\n",
    "    transformed_graph = transformed_graph.transpose()\n",
    "    return transformed_graph"
   ]
  },
  {
   "cell_type": "code",
   "execution_count": 57,
   "id": "6058e038",
   "metadata": {},
   "outputs": [
    {
     "data": {
      "text/plain": [
       "array([[0.        , 0.        , 1.        , 0.5       ],\n",
       "       [0.33333333, 0.        , 0.        , 0.        ],\n",
       "       [0.33333333, 0.5       , 0.        , 0.5       ],\n",
       "       [0.33333333, 0.5       , 0.        , 0.        ]])"
      ]
     },
     "execution_count": 57,
     "metadata": {},
     "output_type": "execute_result"
    }
   ],
   "source": [
    "A = convert_graph_to_link_matrix(directed_graph)\n",
    "A"
   ]
  },
  {
   "cell_type": "markdown",
   "id": "47ce84a3",
   "metadata": {},
   "source": [
    "## Eigen Values and Vector"
   ]
  },
  {
   "cell_type": "code",
   "execution_count": 46,
   "id": "b83e0ca8",
   "metadata": {},
   "outputs": [],
   "source": [
    "# Compute eigenvalues and eigenvectors\n",
    "eigenvalues, eigenvectors = np.linalg.eig(A)"
   ]
  },
  {
   "cell_type": "code",
   "execution_count": 58,
   "id": "03cb4eaa",
   "metadata": {},
   "outputs": [
    {
     "name": "stdout",
     "output_type": "stream",
     "text": [
      "(1.000000000000002+0j)\n",
      "(-0.36062333350611053+0.4109755454950538j)\n",
      "(-0.36062333350611053-0.4109755454950538j)\n",
      "(-0.278753332987779+0j)\n"
     ]
    }
   ],
   "source": [
    "for val in eigenvalues:\n",
    "    print(val)"
   ]
  }
 ],
 "metadata": {
  "kernelspec": {
   "display_name": "Python 3 (ipykernel)",
   "language": "python",
   "name": "python3"
  },
  "language_info": {
   "codemirror_mode": {
    "name": "ipython",
    "version": 3
   },
   "file_extension": ".py",
   "mimetype": "text/x-python",
   "name": "python",
   "nbconvert_exporter": "python",
   "pygments_lexer": "ipython3",
   "version": "3.11.1"
  },
  "toc": {
   "base_numbering": 1,
   "nav_menu": {},
   "number_sections": true,
   "sideBar": true,
   "skip_h1_title": false,
   "title_cell": "Table of Contents",
   "title_sidebar": "Contents",
   "toc_cell": false,
   "toc_position": {
    "height": "calc(100% - 180px)",
    "left": "10px",
    "top": "150px",
    "width": "307.2px"
   },
   "toc_section_display": true,
   "toc_window_display": true
  }
 },
 "nbformat": 4,
 "nbformat_minor": 5
}
