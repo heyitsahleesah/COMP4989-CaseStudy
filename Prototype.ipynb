{
 "cells": [
  {
   "cell_type": "markdown",
   "id": "1a18129b",
   "metadata": {},
   "source": [
    "# Import and Settings"
   ]
  },
  {
   "cell_type": "code",
   "execution_count": 48,
   "id": "1e2fdcc6",
   "metadata": {},
   "outputs": [],
   "source": [
    "import numpy as np\n",
    "from scipy.linalg import eig"
   ]
  },
  {
   "cell_type": "markdown",
   "id": "1f77bad3",
   "metadata": {},
   "source": [
    "## Directed Graph"
   ]
  },
  {
   "cell_type": "code",
   "execution_count": 4,
   "id": "5d9471b5",
   "metadata": {},
   "outputs": [
    {
     "data": {
      "text/plain": [
       "[[0, 1, 1, 1], [0, 0, 1, 1], [1, 0, 0, 0], [1, 0, 1, 0]]"
      ]
     },
     "execution_count": 4,
     "metadata": {},
     "output_type": "execute_result"
    }
   ],
   "source": [
    "directed_graph = [[0,1,1,1],[0,0,1,1],[1,0,0,0],[1,0,1,0]]\n",
    "directed_graph"
   ]
  },
  {
   "cell_type": "markdown",
   "id": "8d6b9fd5",
   "metadata": {},
   "source": [
    "# Processing"
   ]
  },
  {
   "cell_type": "markdown",
   "id": "b70d0b6d",
   "metadata": {},
   "source": [
    "## Converting Graph"
   ]
  },
  {
   "cell_type": "code",
   "execution_count": 59,
   "id": "b8d129fc",
   "metadata": {},
   "outputs": [],
   "source": [
    "# Assumes it is a square matrix\n",
    "def convert_graph_to_link_matrix(graph):\n",
    "    transformed_graph = []\n",
    "    for row in graph:\n",
    "        col = []\n",
    "        sum_row = sum(row)\n",
    "        for val in row:\n",
    "            col.append(val / sum_row)\n",
    "        transformed_graph.append(col)\n",
    "    transformed_graph = np.array(transformed_graph)\n",
    "    transformed_graph = transformed_graph.T\n",
    "    return transformed_graph"
   ]
  },
  {
   "cell_type": "code",
   "execution_count": 61,
   "id": "6058e038",
   "metadata": {},
   "outputs": [
    {
     "data": {
      "text/plain": [
       "array([[0.        , 0.        , 1.        , 0.5       ],\n",
       "       [0.33333333, 0.        , 0.        , 0.        ],\n",
       "       [0.33333333, 0.5       , 0.        , 0.5       ],\n",
       "       [0.33333333, 0.5       , 0.        , 0.        ]])"
      ]
     },
     "execution_count": 61,
     "metadata": {},
     "output_type": "execute_result"
    }
   ],
   "source": [
    "A = convert_graph_to_link_matrix(directed_graph)\n",
    "A"
   ]
  },
  {
   "cell_type": "markdown",
   "id": "47ce84a3",
   "metadata": {},
   "source": [
    "## Eigen Values and Vector"
   ]
  },
  {
   "cell_type": "code",
   "execution_count": 90,
   "id": "29b04ee3",
   "metadata": {},
   "outputs": [
    {
     "data": {
      "text/plain": [
       "[(0.3870967741935484+0j),\n",
       " (0.12903225806451618+0j),\n",
       " (0.29032258064516114+0j),\n",
       " (0.1935483870967743+0j)]"
      ]
     },
     "execution_count": 90,
     "metadata": {},
     "output_type": "execute_result"
    }
   ],
   "source": [
    "# Compute eigenvalues and eigenvectors\n",
    "eigenvalues, eigenvectors = eig(A)\n",
    "\n",
    "# Define a tolerance level for eigenvalue proximity (e.g., 0.01)\n",
    "tolerance = 0.01\n",
    "\n",
    "# Find eigenvectors corresponding to eigenvalues close to 1\n",
    "eigenvectors_close_to_1 = []\n",
    "for i in range(len(eigenvalues)):\n",
    "    if np.isclose(eigenvalues[i], 1, atol=tolerance):\n",
    "        eigenvectors_close_to_1.append(eigenvectors[:, i])\n",
    "\n",
    "# Convert the list of eigenvectors to a NumPy array\n",
    "eigenvectors_close_to_1 = np.array(eigenvectors_close_to_1)\n",
    "\n",
    "eigenvectors_close_to_1 = eigenvectors_close_to_1[0]\n",
    "\n",
    "# Normalize\n",
    "eigenvectors_close_to_1 = [rank / sum(eigenvectors_close_to_1) for rank in eigenvectors_close_to_1]\n",
    "eigenvectors_close_to_1"
   ]
  }
 ],
 "metadata": {
  "kernelspec": {
   "display_name": "Python 3 (ipykernel)",
   "language": "python",
   "name": "python3"
  },
  "language_info": {
   "codemirror_mode": {
    "name": "ipython",
    "version": 3
   },
   "file_extension": ".py",
   "mimetype": "text/x-python",
   "name": "python",
   "nbconvert_exporter": "python",
   "pygments_lexer": "ipython3",
   "version": "3.11.1"
  },
  "toc": {
   "base_numbering": 1,
   "nav_menu": {},
   "number_sections": true,
   "sideBar": true,
   "skip_h1_title": false,
   "title_cell": "Table of Contents",
   "title_sidebar": "Contents",
   "toc_cell": false,
   "toc_position": {
    "height": "calc(100% - 180px)",
    "left": "10px",
    "top": "150px",
    "width": "307.2px"
   },
   "toc_section_display": true,
   "toc_window_display": true
  }
 },
 "nbformat": 4,
 "nbformat_minor": 5
}
