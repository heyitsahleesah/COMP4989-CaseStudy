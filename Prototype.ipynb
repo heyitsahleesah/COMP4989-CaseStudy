{
 "cells": [
  {
   "cell_type": "markdown",
   "id": "1a18129b",
   "metadata": {},
   "source": [
    "# Import and Settings"
   ]
  },
  {
   "cell_type": "code",
   "execution_count": 1,
   "id": "1e2fdcc6",
   "metadata": {},
   "outputs": [],
   "source": [
    "import numpy as np\n",
    "import random\n",
    "from scipy.linalg import eig"
   ]
  },
  {
   "cell_type": "markdown",
   "id": "1f77bad3",
   "metadata": {},
   "source": [
    "## Settings and parameter"
   ]
  },
  {
   "cell_type": "code",
   "execution_count": 2,
   "id": "5d9471b5",
   "metadata": {},
   "outputs": [],
   "source": [
    "m = 0.15"
   ]
  },
  {
   "cell_type": "markdown",
   "id": "c1c66e43",
   "metadata": {},
   "source": [
    "## Generate random directed graph"
   ]
  },
  {
   "cell_type": "code",
   "execution_count": 3,
   "id": "a556fe73",
   "metadata": {},
   "outputs": [],
   "source": [
    "# generates a directed graph from a given number of nodes\n",
    "def generate_random_graph(number_of_nodes):\n",
    "    return [[random.randint(0, 1) if row != col else 0 for col in range(number_of_nodes)] for row in range(number_of_nodes)]"
   ]
  },
  {
   "cell_type": "markdown",
   "id": "8d6b9fd5",
   "metadata": {},
   "source": [
    "# Processing"
   ]
  },
  {
   "cell_type": "markdown",
   "id": "fa66e7c1",
   "metadata": {},
   "source": [
    "## Dangling Nodes"
   ]
  },
  {
   "cell_type": "code",
   "execution_count": 4,
   "id": "766e1bfc",
   "metadata": {},
   "outputs": [],
   "source": [
    "def check_for_negatives(graph):\n",
    "    for row in graph:\n",
    "        for value in row:\n",
    "            if value < 0:\n",
    "                return True\n",
    "    return False"
   ]
  },
  {
   "cell_type": "code",
   "execution_count": 5,
   "id": "b33f433e",
   "metadata": {},
   "outputs": [],
   "source": [
    "def handling_dangly_nodes(graph):\n",
    "    if check_for_negatives(graph):\n",
    "        return\n",
    "    test_graph = []\n",
    "    for row in graph:\n",
    "        if np.sum(row) == 0:\n",
    "            test_graph.append([1/len(row) for _ in row])\n",
    "        else:\n",
    "            test_graph.append(row)\n",
    "    return test_graph"
   ]
  },
  {
   "cell_type": "markdown",
   "id": "b70d0b6d",
   "metadata": {},
   "source": [
    "## Converting Graph"
   ]
  },
  {
   "cell_type": "code",
   "execution_count": 6,
   "id": "b8d129fc",
   "metadata": {},
   "outputs": [],
   "source": [
    "# Assumes it is a square matrix\n",
    "def convert_graph_to_link_matrix(graph):\n",
    "    transformed_graph = []\n",
    "    for row in graph:\n",
    "        col = []\n",
    "        sum_row = sum(row)\n",
    "        for val in row:\n",
    "            col.append(val / sum_row)\n",
    "        transformed_graph.append(col)\n",
    "    transformed_graph = np.array(transformed_graph)\n",
    "    transformed_graph = transformed_graph.T\n",
    "    return transformed_graph"
   ]
  },
  {
   "cell_type": "markdown",
   "id": "ab99503a",
   "metadata": {},
   "source": [
    "## Dangling Links"
   ]
  },
  {
   "cell_type": "code",
   "execution_count": 7,
   "id": "a17ed766",
   "metadata": {},
   "outputs": [],
   "source": [
    "def handling_dangly_links(graph, m):\n",
    "    S = np.full((len(graph), len(graph)), 1/len(graph))\n",
    "    return ((1 - m) * graph) + (m * S)"
   ]
  },
  {
   "cell_type": "markdown",
   "id": "47ce84a3",
   "metadata": {},
   "source": [
    "## Eigen Values and Vector"
   ]
  },
  {
   "cell_type": "code",
   "execution_count": 8,
   "id": "29b04ee3",
   "metadata": {},
   "outputs": [],
   "source": [
    "def find_eigen_vectors(matrix):\n",
    "    # Compute eigenvalues and eigenvectors\n",
    "    eigenvalues, eigenvectors = eig(matrix)\n",
    "\n",
    "    # Define a tolerance level for eigenvalue proximity (e.g., 0.01)\n",
    "    tolerance = 0.01\n",
    "\n",
    "    # Find eigenvectors corresponding to eigenvalues close to 1\n",
    "    eigenvectors_close_to_1 = []\n",
    "    for i in range(len(eigenvalues)):\n",
    "        if np.isclose(eigenvalues[i], 1, atol=tolerance):\n",
    "            eigenvectors_close_to_1.append(eigenvectors[:, i])\n",
    "\n",
    "    # Convert the list of eigenvectors to a NumPy array\n",
    "    eigenvectors_close_to_1 = np.array(eigenvectors_close_to_1)\n",
    "\n",
    "    eigenvectors_close_to_1 = eigenvectors_close_to_1[0]\n",
    "\n",
    "    # Normalize\n",
    "    eigenvectors_close_to_1 = [rank / sum(eigenvectors_close_to_1) for rank in eigenvectors_close_to_1]\n",
    "    return eigenvectors_close_to_1"
   ]
  },
  {
   "cell_type": "markdown",
   "id": "db3aac52",
   "metadata": {},
   "source": [
    "# Running Page Rank"
   ]
  },
  {
   "cell_type": "code",
   "execution_count": 9,
   "id": "31d9ec26",
   "metadata": {},
   "outputs": [],
   "source": [
    "def page_rank(graph, m):\n",
    "    A = handling_dangly_nodes(graph)\n",
    "    A = convert_graph_to_link_matrix(A)\n",
    "    A = handling_dangly_links(A, m)\n",
    "    return find_eigen_vectors(A)"
   ]
  },
  {
   "cell_type": "code",
   "execution_count": 10,
   "id": "e1706584",
   "metadata": {},
   "outputs": [],
   "source": [
    "directed_graph = [[0,1,1,1],[0,0,1,1],[1,0,0,0],[1,0,1,0]]\n",
    "graph_1000 = generate_random_graph(1000)"
   ]
  }
 ],
 "metadata": {
  "kernelspec": {
   "display_name": "Python 3 (ipykernel)",
   "language": "python",
   "name": "python3"
  },
  "language_info": {
   "codemirror_mode": {
    "name": "ipython",
    "version": 3
   },
   "file_extension": ".py",
   "mimetype": "text/x-python",
   "name": "python",
   "nbconvert_exporter": "python",
   "pygments_lexer": "ipython3",
   "version": "3.11.1"
  },
  "toc": {
   "base_numbering": 1,
   "nav_menu": {},
   "number_sections": true,
   "sideBar": true,
   "skip_h1_title": false,
   "title_cell": "Table of Contents",
   "title_sidebar": "Contents",
   "toc_cell": false,
   "toc_position": {
    "height": "calc(100% - 180px)",
    "left": "10px",
    "top": "150px",
    "width": "307.198px"
   },
   "toc_section_display": true,
   "toc_window_display": true
  }
 },
 "nbformat": 4,
 "nbformat_minor": 5
}
