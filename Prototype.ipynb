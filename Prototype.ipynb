{
 "cells": [
  {
   "cell_type": "markdown",
   "id": "1a18129b",
   "metadata": {},
   "source": [
    "# Import and Settings"
   ]
  },
  {
   "cell_type": "code",
   "execution_count": 5,
   "id": "1e2fdcc6",
   "metadata": {},
   "outputs": [],
   "source": [
    "import numpy as np\n",
    "import random\n",
    "from scipy.linalg import eig"
   ]
  },
  {
   "cell_type": "markdown",
   "id": "1f77bad3",
   "metadata": {},
   "source": [
    "## Settings and parameter"
   ]
  },
  {
   "cell_type": "code",
   "execution_count": 6,
   "id": "5d9471b5",
   "metadata": {},
   "outputs": [],
   "source": [
    "directed_graph = [[0,1,1,1],[0,0,1,1],[1,0,0,0],[1,0,1,0]]\n",
    "m = 0.15"
   ]
  },
  {
   "cell_type": "markdown",
   "id": "35fc9222",
   "metadata": {},
   "source": [
    "## Generate random directed graph"
   ]
  },
  {
   "cell_type": "code",
   "execution_count": 13,
   "id": "260ca12d",
   "metadata": {},
   "outputs": [
    {
     "data": {
      "text/plain": [
       "[[0, 1, 1, 0, 0, 1, 1, 1, 1, 1, 1, 0, 0, 0, 0, 0, 1, 1, 1, 1],\n",
       " [1, 1, 0, 1, 1, 1, 0, 1, 1, 0, 0, 0, 0, 1, 1, 1, 0, 0, 1, 0],\n",
       " [0, 0, 0, 1, 1, 1, 1, 0, 1, 0, 1, 1, 1, 0, 0, 0, 0, 0, 0, 0],\n",
       " [1, 0, 0, 1, 0, 1, 0, 1, 1, 0, 1, 0, 0, 0, 0, 0, 0, 1, 1, 1],\n",
       " [1, 1, 0, 0, 0, 1, 0, 0, 1, 0, 1, 0, 0, 0, 0, 1, 1, 1, 0, 0],\n",
       " [0, 0, 0, 1, 1, 0, 1, 1, 1, 0, 1, 0, 0, 1, 1, 1, 1, 1, 1, 0],\n",
       " [1, 1, 1, 0, 0, 0, 0, 0, 0, 1, 0, 0, 1, 1, 1, 0, 1, 1, 0, 0],\n",
       " [0, 1, 0, 1, 1, 0, 0, 1, 1, 0, 1, 0, 0, 1, 0, 1, 0, 1, 1, 1],\n",
       " [1, 1, 0, 0, 1, 0, 0, 1, 1, 1, 0, 1, 1, 0, 1, 1, 1, 0, 1, 0],\n",
       " [0, 0, 1, 1, 0, 0, 1, 1, 1, 0, 0, 1, 1, 0, 1, 0, 0, 0, 0, 0],\n",
       " [0, 1, 0, 0, 1, 0, 0, 1, 0, 0, 1, 0, 1, 0, 1, 1, 1, 1, 1, 1],\n",
       " [0, 1, 0, 1, 1, 0, 1, 1, 1, 1, 1, 1, 0, 1, 1, 1, 1, 1, 0, 1],\n",
       " [0, 1, 1, 1, 1, 0, 0, 0, 1, 0, 0, 1, 1, 1, 0, 0, 1, 1, 1, 1],\n",
       " [0, 1, 0, 0, 0, 1, 0, 0, 0, 1, 1, 1, 1, 0, 1, 1, 1, 0, 1, 1],\n",
       " [1, 0, 1, 0, 0, 0, 0, 0, 0, 0, 0, 1, 0, 0, 1, 0, 1, 0, 0, 0],\n",
       " [1, 0, 0, 1, 0, 0, 1, 1, 0, 1, 1, 1, 1, 0, 0, 0, 1, 0, 0, 0],\n",
       " [0, 0, 0, 1, 0, 1, 0, 1, 0, 1, 1, 0, 1, 1, 1, 1, 0, 1, 0, 0],\n",
       " [1, 0, 0, 1, 1, 1, 1, 1, 1, 1, 0, 1, 0, 1, 1, 1, 0, 0, 1, 1],\n",
       " [1, 1, 1, 1, 1, 1, 1, 1, 1, 1, 0, 1, 1, 1, 1, 0, 1, 0, 1, 0],\n",
       " [1, 0, 1, 1, 1, 0, 0, 0, 0, 1, 1, 1, 0, 1, 0, 1, 1, 0, 0, 0]]"
      ]
     },
     "execution_count": 13,
     "metadata": {},
     "output_type": "execute_result"
    }
   ],
   "source": [
    "n = 20\n",
    "\n",
    "# generates a graph from a given number of n\n",
    "def generate_random_graph(number_of_nodes):\n",
    "    generated_graph = []\n",
    "    for i in range(number_of_nodes):\n",
    "        generated_row = []\n",
    "        for j in range(number_of_nodes):\n",
    "            generated_row.append(random.randint(0,1))\n",
    "        generated_graph.append(generated_row)\n",
    "    return generated_graph\n",
    "\n",
    "generate_random_graph(n)"
   ]
  },
  {
   "cell_type": "markdown",
   "id": "8d6b9fd5",
   "metadata": {},
   "source": [
    "# Processing"
   ]
  },
  {
   "cell_type": "markdown",
   "id": "fa66e7c1",
   "metadata": {},
   "source": [
    "## Dangling Nodes"
   ]
  },
  {
   "cell_type": "code",
   "execution_count": 63,
   "id": "766e1bfc",
   "metadata": {},
   "outputs": [],
   "source": [
    "def check_for_negatives(graph):\n",
    "    for row in graph:\n",
    "        for value in row:\n",
    "            if value < 0:\n",
    "                return True\n",
    "    return False"
   ]
  },
  {
   "cell_type": "code",
   "execution_count": 64,
   "id": "b33f433e",
   "metadata": {},
   "outputs": [],
   "source": [
    "def handling_dangly_nodes(graph):\n",
    "    if check_for_negatives(graph):\n",
    "        return\n",
    "    test_graph = []\n",
    "    for row in graph:\n",
    "        if np.sum(row) == 0:\n",
    "            test_graph.append([1/len(row) for _ in row])\n",
    "        else:\n",
    "            test_graph.append(row)\n",
    "    return test_graph"
   ]
  },
  {
   "cell_type": "code",
   "execution_count": 65,
   "id": "a07b7946",
   "metadata": {},
   "outputs": [
    {
     "data": {
      "text/plain": [
       "[[0, 1, 1, 1], [0, 0, 1, 1], [1, 0, 0, 0], [1, 0, 1, 0]]"
      ]
     },
     "execution_count": 65,
     "metadata": {},
     "output_type": "execute_result"
    }
   ],
   "source": [
    "A = handling_dangly_nodes(directed_graph)\n",
    "A"
   ]
  },
  {
   "cell_type": "markdown",
   "id": "b70d0b6d",
   "metadata": {},
   "source": [
    "## Converting Graph"
   ]
  },
  {
   "cell_type": "code",
   "execution_count": 66,
   "id": "b8d129fc",
   "metadata": {},
   "outputs": [],
   "source": [
    "# Assumes it is a square matrix\n",
    "def convert_graph_to_link_matrix(graph):\n",
    "    transformed_graph = []\n",
    "    for row in graph:\n",
    "        col = []\n",
    "        sum_row = sum(row)\n",
    "        for val in row:\n",
    "            col.append(val / sum_row)\n",
    "        transformed_graph.append(col)\n",
    "    transformed_graph = np.array(transformed_graph)\n",
    "    transformed_graph = transformed_graph.T\n",
    "    return transformed_graph"
   ]
  },
  {
   "cell_type": "code",
   "execution_count": 67,
   "id": "a9dcdffb",
   "metadata": {},
   "outputs": [
    {
     "data": {
      "text/plain": [
       "array([[0.        , 0.        , 1.        , 0.5       ],\n",
       "       [0.33333333, 0.        , 0.        , 0.        ],\n",
       "       [0.33333333, 0.5       , 0.        , 0.5       ],\n",
       "       [0.33333333, 0.5       , 0.        , 0.        ]])"
      ]
     },
     "execution_count": 67,
     "metadata": {},
     "output_type": "execute_result"
    }
   ],
   "source": [
    "A = convert_graph_to_link_matrix(A)\n",
    "A"
   ]
  },
  {
   "cell_type": "markdown",
   "id": "ab99503a",
   "metadata": {},
   "source": [
    "## Dangling Links"
   ]
  },
  {
   "cell_type": "code",
   "execution_count": 68,
   "id": "a17ed766",
   "metadata": {},
   "outputs": [],
   "source": [
    "def handling_dangly_links(graph, m):\n",
    "    S = np.full((len(graph), len(graph)), 1/len(graph))\n",
    "    return ((1 - m) * graph) + (m * S)"
   ]
  },
  {
   "cell_type": "code",
   "execution_count": 69,
   "id": "3b27418f",
   "metadata": {},
   "outputs": [
    {
     "data": {
      "text/plain": [
       "array([[0.0375    , 0.0375    , 0.8875    , 0.4625    ],\n",
       "       [0.32083333, 0.0375    , 0.0375    , 0.0375    ],\n",
       "       [0.32083333, 0.4625    , 0.0375    , 0.4625    ],\n",
       "       [0.32083333, 0.4625    , 0.0375    , 0.0375    ]])"
      ]
     },
     "execution_count": 69,
     "metadata": {},
     "output_type": "execute_result"
    }
   ],
   "source": [
    "A = handling_dangly_links(A, m)\n",
    "A"
   ]
  },
  {
   "cell_type": "markdown",
   "id": "47ce84a3",
   "metadata": {},
   "source": [
    "## Eigen Values and Vector"
   ]
  },
  {
   "cell_type": "code",
   "execution_count": 70,
   "id": "29b04ee3",
   "metadata": {},
   "outputs": [
    {
     "data": {
      "text/plain": [
       "[(0.3681506770476028+0j),\n",
       " (0.14180935849682083+0j),\n",
       " (0.2879616285976069+0j),\n",
       " (0.20207833585796964+0j)]"
      ]
     },
     "execution_count": 70,
     "metadata": {},
     "output_type": "execute_result"
    }
   ],
   "source": [
    "# Compute eigenvalues and eigenvectors\n",
    "eigenvalues, eigenvectors = eig(A)\n",
    "\n",
    "# Define a tolerance level for eigenvalue proximity (e.g., 0.01)\n",
    "tolerance = 0.01\n",
    "\n",
    "# Find eigenvectors corresponding to eigenvalues close to 1\n",
    "eigenvectors_close_to_1 = []\n",
    "for i in range(len(eigenvalues)):\n",
    "    if np.isclose(eigenvalues[i], 1, atol=tolerance):\n",
    "        eigenvectors_close_to_1.append(eigenvectors[:, i])\n",
    "\n",
    "# Convert the list of eigenvectors to a NumPy array\n",
    "eigenvectors_close_to_1 = np.array(eigenvectors_close_to_1)\n",
    "\n",
    "eigenvectors_close_to_1 = eigenvectors_close_to_1[0]\n",
    "\n",
    "# Normalize\n",
    "eigenvectors_close_to_1 = [rank / sum(eigenvectors_close_to_1) for rank in eigenvectors_close_to_1]\n",
    "eigenvectors_close_to_1"
   ]
  }
 ],
 "metadata": {
  "kernelspec": {
   "display_name": "Python 3 (ipykernel)",
   "language": "python",
   "name": "python3"
  },
  "language_info": {
   "codemirror_mode": {
    "name": "ipython",
    "version": 3
   },
   "file_extension": ".py",
   "mimetype": "text/x-python",
   "name": "python",
   "nbconvert_exporter": "python",
   "pygments_lexer": "ipython3",
   "version": "3.11.1"
  },
  "toc": {
   "base_numbering": 1,
   "nav_menu": {},
   "number_sections": true,
   "sideBar": true,
   "skip_h1_title": false,
   "title_cell": "Table of Contents",
   "title_sidebar": "Contents",
   "toc_cell": false,
   "toc_position": {
    "height": "calc(100% - 180px)",
    "left": "10px",
    "top": "150px",
    "width": "307.2px"
   },
   "toc_section_display": true,
   "toc_window_display": true
  }
 },
 "nbformat": 4,
 "nbformat_minor": 5
}
